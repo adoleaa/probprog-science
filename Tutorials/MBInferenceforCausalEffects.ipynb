{
 "cells": [
  {
   "cell_type": "markdown",
   "metadata": {},
   "source": [
    "To be added for future iterations of the course, start with this [case-study](https://mc-stan.org/users/documentation/case-studies/model-based_causal_inference_for_RCT.html) of Stan and then iterate upon it with more modern methods of causal inference."
   ]
  }
 ],
 "metadata": {
  "kernelspec": {
   "display_name": "Julia 1.4.2",
   "language": "julia",
   "name": "julia-1.4"
  },
  "language_info": {
   "file_extension": ".jl",
   "mimetype": "application/julia",
   "name": "julia",
   "version": "1.4.2"
  }
 },
 "nbformat": 4,
 "nbformat_minor": 4
}
